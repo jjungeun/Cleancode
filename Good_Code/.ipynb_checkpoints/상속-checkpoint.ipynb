{
 "cells": [
  {
   "cell_type": "markdown",
   "metadata": {},
   "source": [
    "# MRO 예제"
   ]
  },
  {
   "cell_type": "code",
   "execution_count": 1,
   "metadata": {},
   "outputs": [],
   "source": [
    "class BaseModule:\n",
    "    module_name = \"top\"\n",
    "\n",
    "    def __init__(self,module_name):\n",
    "        self.name = module_name\n",
    "\n",
    "    def __str__(self):\n",
    "        return f\"{self.module_name}:{self.name}\"\n",
    "\n",
    "class BaseModule1(BaseModule):\n",
    "    module_name = \"module-1\"\n",
    "\n",
    "class BaseModule2(BaseModule):\n",
    "    module_name = \"module-2\"\n",
    "\n",
    "class BaseModule3(BaseModule):\n",
    "    module_name = \"module-3\"\n",
    "\n",
    "class ConcreteModuleA12(BaseModule1,BaseModule2):\n",
    "    \"\"\"1과 2확장\"\"\"\n",
    "\n",
    "class ConcreteModuleB23(BaseModule2,BaseModule3):\n",
    "    \"\"\"2와 3확장\"\"\""
   ]
  },
  {
   "cell_type": "code",
   "execution_count": 2,
   "metadata": {},
   "outputs": [
    {
     "data": {
      "text/plain": [
       "'module-1:test'"
      ]
     },
     "execution_count": 2,
     "metadata": {},
     "output_type": "execute_result"
    }
   ],
   "source": [
    "str(ConcreteModuleA12(\"test\"))"
   ]
  },
  {
   "cell_type": "code",
   "execution_count": 3,
   "metadata": {
    "scrolled": true
   },
   "outputs": [
    {
     "data": {
      "text/plain": [
       "['ConcreteModuleA12', 'BaseModule1', 'BaseModule2', 'BaseModule', 'object']"
      ]
     },
     "execution_count": 3,
     "metadata": {},
     "output_type": "execute_result"
    }
   ],
   "source": [
    "[cls.__name__ for cls in ConcreteModuleA12.mro()]"
   ]
  },
  {
   "cell_type": "markdown",
   "metadata": {},
   "source": [
    "# Mixin 예제"
   ]
  },
  {
   "cell_type": "code",
   "execution_count": 4,
   "metadata": {},
   "outputs": [],
   "source": [
    "class BaseTokenizer:\n",
    "    def __init__(self, str_token):\n",
    "        self.str_token = str_token\n",
    "    \n",
    "    def __iter__(self):\n",
    "        yield from self.str_token.split(\"-\")"
   ]
  },
  {
   "cell_type": "code",
   "execution_count": 5,
   "metadata": {},
   "outputs": [
    {
     "data": {
      "text/plain": [
       "['wewte', 'agsfw', 'sge', 'se', 'a']"
      ]
     },
     "execution_count": 5,
     "metadata": {},
     "output_type": "execute_result"
    }
   ],
   "source": [
    "tk = BaseTokenizer(\"wewte-agsfw-sge-se-a\")\n",
    "list(tk)"
   ]
  },
  {
   "cell_type": "code",
   "execution_count": 6,
   "metadata": {},
   "outputs": [],
   "source": [
    "class UpperIterableMixin:\n",
    "    def __iter__(self):\n",
    "        return map(str.upper, super().__iter__())\n",
    "    \n",
    "class Tokenizer(UpperIterableMixin,BaseTokenizer):\n",
    "    pass"
   ]
  },
  {
   "cell_type": "code",
   "execution_count": 7,
   "metadata": {},
   "outputs": [
    {
     "data": {
      "text/plain": [
       "['WEWTE', 'AGSFW', 'SGE', 'SE', 'A']"
      ]
     },
     "execution_count": 7,
     "metadata": {},
     "output_type": "execute_result"
    }
   ],
   "source": [
    "tk1 = Tokenizer(\"wewte-agsfw-sge-se-a\")\n",
    "list(tk1)"
   ]
  }
 ],
 "metadata": {
  "kernelspec": {
   "display_name": "Python 3",
   "language": "python",
   "name": "python3"
  },
  "language_info": {
   "codemirror_mode": {
    "name": "ipython",
    "version": 3
   },
   "file_extension": ".py",
   "mimetype": "text/x-python",
   "name": "python",
   "nbconvert_exporter": "python",
   "pygments_lexer": "ipython3",
   "version": "3.6.8"
  }
 },
 "nbformat": 4,
 "nbformat_minor": 2
}
